{
 "cells": [
  {
   "cell_type": "markdown",
   "metadata": {},
   "source": [
    "# Dataset de los grupos de investigación colombianos con categoría A y A1 y que hacen parte de los Programas Nacionales de Ciencia, Tecnología e Innovación en Salud e Ingeniería.\n",
    "\n",
    "**M2.851 - Tipología y ciclo de vida de los datos aula 1 \n",
    "Práctica 1** \n",
    "\n",
    "**Marzo 2022**\n",
    "\n",
    "Realizado por:\n",
    "- FEDERICO CLAVIJO LÓPEZ\n",
    "- ALEJANDRO MEDINA UICAB\n",
    "\n",
    "## DESARROLLO\n",
    "***1.\tContexto. Explicar en qué contexto se ha recolectado la información. Explicar por qué el sitio web elegido proporciona dicha información.***\n",
    "\n",
    "En Colombia, el Ministerio de Ciencia Tecnología e Innovación (Minciencias) regula, gestiona y financia la mayor parte de las actividades de innovación, investigación y desarrollo de tecnología, a través de diferentes convocatorias públicas y programas gubernamentales. En el marco de esta gestión Minciencias ha generado varias bases de datos para gestionar y divulgar de forma estructurada, la información concerniente a entidades que investigan, grupos de investigación, investigadores y convocatorias vigentes, a través de plataformas en línea de acceso público.\n",
    "\n",
    "Una de estas plataformas fue escogida para el desarrollo de esta práctica (https://scienti.minciencias.gov.co/ciencia-war/) en ésta se puede acceder a las bases de datos que recogen toda la información sobre currículos de investigadores (CvLAC) y hojas de vida de grupos de investigación (GrupLAC) colombianos.\n",
    "\n",
    "Si bien en la plataforma se puede consultar la información a través varios criterios, hay búsquedas que no se pueden realizar de forma sencilla e implica un proceso tedioso de filtrado manual. A partir de estas dificultades se decidió centrar esta práctica en: recaudar la información concerniente a los grupos de investigación que tengan categoía A y A1 y que hagan parte de los Programas Nacionales de Ciencia, Tecnología e Innovación en Salud y en Ingeniería, sin importar si estas son la temática principal o secundaria del grupo. Información consultada en esta pagina web: https://scienti.minciencias.gov.co/ciencia-war/busquedaConteoGrupoXProgramaNacional.do?by=primario&codPrograma=2\n",
    "\n",
    "***2.\tTítulo. Definir un título que sea descriptivo para el dataset:***\n",
    "\n",
    "Dataset de los grupos de investigación colombianos con categoría A y A1 y que hacen parte de los Programas Nacionales de Ciencia, Tecnología e Innovación en Salud e Ingeniería.\n",
    "\n",
    "***3.\tDescripción del dataset. Desarrollar una descripción breve del conjunto de datos que se ha extraído. Es necesario que esta descripción tenga sentido con el título elegido.***\n",
    "\n",
    "El dataset obtenido con el web scraping corresponde al listado de los grupos de investigación categoría A y A1 registrados por el Ministerio de Ciencia Tecnoloagía e Innovación de Colombia, que hacen parte de los Programas Nacionales de Salud e Ingeniería, sin importar si estas son la temática principal o secundaria del grupo. \n",
    "Esta información es consultada en la pagina web oficial del Ministerio: https://scienti.minciencias.gov.co/ciencia-war/busquedaGrupoXProgramaNacional.do la cual contiene cerca de 5751 registros.\n",
    "\n",
    "***4.\tRepresentación gráfica. Dibujar un esquema o diagrama que identifique el dataset visualmente y el proyecto elegido.***\n",
    "d\n",
    "\n",
    "***5.\tContenido. Explicar los campos que incluye el dataset, el periodo de tiempo de los datos y cómo se han recogido.***\n",
    "\n",
    "El dataset obtenido con el web scraping corresponde a los grupos de investigación categoría A y A1 de las temáticas de salud e ingeniería. Los campos de información de cada grupo son:\n",
    "- id: Corresponde al número de identificación del listado de grupo en cada b+usqueda realizada\n",
    "- codigo_grupo: Código de identificación de cada grupo de investigación. Primary key del registro de grupos\n",
    "- nombre_grupo: Nombre del grupo \n",
    "- lider: Investigador principal del grupo\n",
    "- avalado: Corresponde al número de instituciones que avalan la existencia del grupo de investigación sobre el total reportado\n",
    "- estado: Indica la categoría que tiene el grupo de investigación, que para el presente data set corresponde a categoría A y A1\n",
    "- calificado_en: refleja la convocatoria y el año en el cual fue evaluado y otorgado esa categoría reportada. \n",
    "\n",
    "Este dataset se ha recogido a partir de esta pagina web: https://scienti.minciencias.gov.co/ciencia-war/busquedaGrupoXProgramaNacional.do y a partir de ella se accedió a los grupos de investigación de Ciencia, Tecnología e Innovación en Salud e Ingeniería en la opción de \"Ambos\", ya que esto corresponde a que estas temáticas pueden ser tanto tema principal como segundario. Con lo cual, se extrajo la información de los siguientes links:\n",
    "\n",
    "Salud: https://scienti.minciencias.gov.co/ciencia-war/busquedaConteoGrupoXProgramaNacional.do?by=union&codPrograma=2\n",
    "Ingeniería: https://scienti.minciencias.gov.co/ciencia-war/busquedaConteoGrupoXProgramaNacional.do?by=union&codPrograma=15\n",
    "\n",
    "Posteriormente se filtraron las tablas para unicamente tomar en consideración los grupos que tuvieran categoría A y A1. Para el caso de salud se tuvieron de base 1196 regisros y para ingeniería 1009, y la búsqueda se configuró para mostrar el máximo de 100 registros por página y que tuvieran Categoría A o A1, lo cual requirió de una función que permitiera acceder a los siguientes resultados hasta completar el total.\n",
    "\n",
    "***6.\tAgradecimientos. Presentar al propietario del conjunto de datos. Es necesario incluir citas de análisis anteriores o, en caso de no haberlas, justificar esta búsqueda con análisis similares. Justificar qué pasos se han seguido para actuar de acuerdo a los principios éticos y legales en el contexto del proyecto.***\n",
    "\n",
    "La plataforma Scienti de Minciencias tiene un carácter público de consulta y restringe el uso comercial de información transformada a partir de sus plataformas. Según consulta del sitio web y dadas las características encontradas frente al tipo de información pública se decidió realizar el web scraping. Contemplando que está prohibida la reproducción total o parcial, traducción, inclusión, transmisión, almacenamiento o acceso a través de medios analógicos, digitales o de cualquier otro sistema o tecnología creada o por crearse, sin autorización previa y escrita de MINCIENCIAS. No obstante, es posible descargar material de las plataformas para uso personal y no comercial, siempre y cuando se haga expresa mención de la propiedad en cabeza MINCIENCIAS.\n",
    "Razón por la cual se aclara que esta práctca corresponde a una actividad académica, sin fines de lucro. Y que acepta los términos y condiciones de la página web rastreada.\n",
    "\n",
    "***7.\tInspiración. Explicar por qué es interesante este conjunto de datos y qué preguntas se pretenden responder. Es necesario comparar con los análisis anteriores presentados en el apartado 6.***\n",
    "\n",
    "El presente listado corresponde a los grupos de investigación con mejor calificación que trabajan en temas de Salud e Ingeniería en Colombia. Este listado permite reconocer aquellos actores relevantes en la generación de conocimiento, facilitando la búsqueda de entidades para establecer alianzas al rededor de estos temas, ya sea para investigar e innovar. Esta información consolidada facilita a las empresas y universidades con quienes pueden trabajar en estas temáticas específicas. \n",
    "\n",
    "Este se convierte es un instrumento para el libre acceso a la información sobre la oferta nacional de investigación y desarrollo tecnológico en términos de capacidad científica y tecnológica de Colombia y de los resultados y productos de la investigación existentes. \n",
    "\n",
    "Esta información cambia una vez al año, sin embargo, la página web suele no ser muy consultada por las empresas debido a su complejidad y visualización poco amena. Lo cual, lleva a esta base de datos, a perder valor frente a su información gestionada.\n",
    "\n",
    "***8.\tLicencia. Seleccionar una de estas licencias para el dataset resultante y justificar el motivo de su selección:***\n",
    "\n",
    "Se escoge la licencia CC BY-NC-SA 4.0 License (Reconocimiento-NoComercial-CompartirIgual). Debido a que la obra original tiene esta misma condición. Esta licencia no permite un uso comercial, siendo este el objetivo de la Minciencias, ya que el interés es dar esta información al público en general.\n",
    "\n",
    "Según políticas del Ministerio, en el marco de este trabajo damos reconocimiento de su autoría, proporcionamos el enlace a la fuente original de los datos e indicamos los cambios realizados. Dejando claro un uso no comercial del resultado. De igual forma, nos restringimos al criterio \"compartirIgual\", el cual nos invita a difundir bajo la misma licencia la remezcla, transformación y/o creación a partir del material de base.\n",
    "\n",
    "***9.\tCódigo. Adjuntar en el repositorio Git el código con el que se ha generado el dataset, preferiblemente en Python o, alternativamente, en R.***\n",
    "\n",
    "Se adjunta en el repositorio de Github el código desarrollado en python en el archivo denominado practica_01.py\n",
    "\n",
    "***10.\tDataset. Publicar el dataset obtenido(*) en formato CSV en Zenodo con una breve descripción. Obtener y adjuntar el enlace del DOI.***\n",
    "\n",
    "Se adjunta en el repositorio de Github el dataset de salida como producto del web scraping en el archivo out.csv.\n",
    "De igual forma se publica el dataset en Zenodo y el código DOI es: \n",
    "\n",
    "***11.\tVídeo. Se debe hacer entrega de un vídeo explicativo de la práctica en donde cada uno de los integrantes del grupo explique con sus propias palabras tanto las respuestas del proyecto como el código utilizado para llevar a cabo la extracción. El vídeo debe ser enviado a través de un enlace a Google Drive que deben proporcionar, junto con el enlace al repositorio Git, al momento de entregar la práctica.***\n",
    "\n",
    "El video fue cargado en el drivey se puede acceder a través del siguiente link:\n"
   ]
  },
  {
   "cell_type": "code",
   "execution_count": 11,
   "metadata": {},
   "outputs": [
    {
     "ename": "ModuleNotFoundError",
     "evalue": "No module named 'tabulate'",
     "output_type": "error",
     "traceback": [
      "\u001b[1;31m---------------------------------------------------------------------------\u001b[0m",
      "\u001b[1;31mModuleNotFoundError\u001b[0m                       Traceback (most recent call last)",
      "\u001b[1;32m<ipython-input-11-33d51cb43a32>\u001b[0m in \u001b[0;36m<module>\u001b[1;34m\u001b[0m\n\u001b[1;32m----> 1\u001b[1;33m \u001b[1;32mfrom\u001b[0m \u001b[0mtabulate\u001b[0m \u001b[1;32mimport\u001b[0m \u001b[0mtabulate\u001b[0m\u001b[1;33m\u001b[0m\u001b[1;33m\u001b[0m\u001b[0m\n\u001b[0m\u001b[0;32m      2\u001b[0m \u001b[1;33m\u001b[0m\u001b[0m\n\u001b[0;32m      3\u001b[0m \u001b[0ma\u001b[0m \u001b[1;33m=\u001b[0m \u001b[1;33m[\u001b[0m\u001b[1;33m[\u001b[0m\u001b[1;34m'Contribuciones'\u001b[0m\u001b[1;33m,\u001b[0m \u001b[1;34m'Firma'\u001b[0m\u001b[1;33m]\u001b[0m\u001b[1;33m,\u001b[0m \u001b[1;33m[\u001b[0m\u001b[1;34m'Investigación previa'\u001b[0m\u001b[1;33m,\u001b[0m \u001b[1;34m'AM - Alejandro Medina Uicab'\u001b[0m\u001b[1;33m,\u001b[0m \u001b[1;34m'FC - Federico Clavijo López'\u001b[0m\u001b[1;33m]\u001b[0m\u001b[1;33m,\u001b[0m \u001b[1;33m[\u001b[0m\u001b[1;34m'Redacción de las respuestas'\u001b[0m\u001b[1;33m,\u001b[0m \u001b[1;34m'AM - Alejandro Medina Uicab'\u001b[0m\u001b[1;33m,\u001b[0m \u001b[1;34m'FC - Federico Clavijo López'\u001b[0m\u001b[1;33m]\u001b[0m\u001b[1;33m,\u001b[0m \u001b[1;33m[\u001b[0m\u001b[1;34m'Desarrollo del código'\u001b[0m\u001b[1;33m,\u001b[0m \u001b[1;34m'AM - Alejandro Medina Uicab'\u001b[0m\u001b[1;33m,\u001b[0m \u001b[1;34m'FC - Federico Clavijo López'\u001b[0m\u001b[1;33m]\u001b[0m\u001b[1;33m]\u001b[0m\u001b[1;33m\u001b[0m\u001b[1;33m\u001b[0m\u001b[0m\n\u001b[0;32m      4\u001b[0m \u001b[0mprint\u001b[0m\u001b[1;33m(\u001b[0m\u001b[0mtabulate\u001b[0m\u001b[1;33m(\u001b[0m\u001b[0ma\u001b[0m\u001b[1;33m)\u001b[0m\u001b[1;33m)\u001b[0m\u001b[1;33m\u001b[0m\u001b[1;33m\u001b[0m\u001b[0m\n\u001b[0;32m      5\u001b[0m \u001b[1;33m\u001b[0m\u001b[0m\n",
      "\u001b[1;31mModuleNotFoundError\u001b[0m: No module named 'tabulate'"
     ]
    }
   ],
   "source": [
    "from tabulate import tabulate\n",
    "\n",
    "a = [['Contribuciones', 'Firma'], ['Investigación previa', 'AM - Alejandro Medina Uicab', 'FC - Federico Clavijo López'], ['Redacción de las respuestas', 'AM - Alejandro Medina Uicab', 'FC - Federico Clavijo López'], ['Desarrollo del código', 'AM - Alejandro Medina Uicab', 'FC - Federico Clavijo López']]\n",
    "print(tabulate(a))\n",
    "\n"
   ]
  },
  {
   "cell_type": "code",
   "execution_count": null,
   "metadata": {},
   "outputs": [],
   "source": []
  }
 ],
 "metadata": {
  "kernelspec": {
   "display_name": "Python 3",
   "language": "python",
   "name": "python3"
  },
  "language_info": {
   "codemirror_mode": {
    "name": "ipython",
    "version": 3
   },
   "file_extension": ".py",
   "mimetype": "text/x-python",
   "name": "python",
   "nbconvert_exporter": "python",
   "pygments_lexer": "ipython3",
   "version": "3.8.5"
  }
 },
 "nbformat": 4,
 "nbformat_minor": 4
}
