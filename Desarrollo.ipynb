{
 "cells": [
  {
   "cell_type": "markdown",
   "metadata": {},
   "source": [
    "# DATASET: xxxxxx\n",
    "\n",
    "**M2.851 - Tipología y ciclo de vida de los datos aula 1 \n",
    "Práctica 1** \n",
    "\n",
    "Realizado por:\n",
    "- FEDERICO CLAVIJO LÓPEZ\n",
    "- ALEJANDRO MEDINA UICAB\n",
    "\n",
    "## DESARROLLO\n",
    "1.\tContexto. Explicar en qué contexto se ha recolectado la información. Explicar por qué el sitio web elegido proporciona dicha información.\n",
    "\n",
    "\n",
    "2.\tTítulo. Definir un título que sea descriptivo para el dataset.\n",
    "\n",
    "\n",
    "3.\tDescripción del dataset. Desarrollar una descripción breve del conjunto de datos que se ha extraído. Es necesario que esta descripción tenga sentido con el título elegido.\n",
    "\n",
    "\n",
    "4.\tRepresentación gráfica. Dibujar un esquema o diagrama que identifique el dataset visualmente y el proyecto elegido.\n",
    "\n",
    "\n",
    "5.\tContenido. Explicar los campos que incluye el dataset, el periodo de tiempo de los datos y cómo se han recogido.\n",
    "\n",
    "\n",
    "6.\tAgradecimientos. Presentar al propietario del conjunto de datos. Es necesario incluir citas de análisis anteriores o, en caso de no haberlas, justificar esta búsqueda con análisis similares. Justificar qué pasos se han seguido para actuar de acuerdo a los principios éticos y legales en el contexto del proyecto.\n",
    "\n",
    "Se analizaron las condiciones de uso de la página identificando dentro de sus términos y condiciones el uso público de consulta, restringiendo el uso comercial. Se revisó de igual forma, las API del sitio web y dadas las características encontradas y el tipo de información pública se procedió con el scraping.\n",
    "Adicionalmente, se deja claro en el presente documento que la práctica corresponde a una actividad académica, sin fines de lucro. Y se aceptaron los términos y condiciones de la página web rastreada.\n",
    "\n",
    "7.\tInspiración. Explicar por qué es interesante este conjunto de datos y qué preguntas se pretenden responder. Es necesario comparar con los análisis anteriores presentados en el apartado 6.\n",
    "\n",
    "\n",
    "8.\tLicencia. Seleccionar una de estas licencias para el dataset resultante y justificar el motivo de su selección:\n",
    "\n",
    "Se Released Under CC BY-NC-SA 4.0 License (Reconocimiento-NoComercial-CompartirIgual). Esta licencia no permite un uso comercial de la obra original ni de las posibles obras derivadas. Además, la distribución de estas obras derivadas se debe hacer con una licencia igual a la que regula la obra original.\n",
    "\n",
    "A lo cual damos reconocimiento — Debe reconocer adecuadamente la autoría, proporcionar un enlace a la licencia e indicar si se han realizado cambios<. Puede hacerlo de cualquier manera razonable, pero no de una manera que sugiera que tiene el apoyo del licenciador o lo recibe por el uso que hace.\n",
    "\n",
    "NoComercial — No puede utilizar el material para una finalidad comercial.\n",
    "\n",
    "CompartirIgual — Si remezcla, transforma o crea a partir del material, deberá difundir sus contribuciones bajo la misma licencia que el original.\n",
    "\n",
    "9.\tCódigo. Adjuntar en el repositorio Git el código con el que se ha generado el dataset, preferiblemente en Python o, alternativamente, en R.\n",
    "\n",
    "\n",
    "10.\tDataset. Publicar el dataset obtenido(*) en formato CSV en Zenodo con una breve descripción. Obtener y adjuntar el enlace del DOI.\n",
    "\n",
    "\n",
    "11.\tVídeo. Se debe hacer entrega de un vídeo explicativo de la práctica en donde cada uno de los integrantes del grupo explique con sus propias palabras tanto las respuestas del proyecto como el código utilizado para llevar a cabo la extracción. El vídeo debe ser enviado a través de un enlace a Google Drive que deben proporcionar, junto con el enlace al repositorio Git, al momento de entregar la práctica.\n",
    "\n"
   ]
  }
 ],
 "metadata": {
  "kernelspec": {
   "display_name": "Python 3",
   "language": "python",
   "name": "python3"
  },
  "language_info": {
   "codemirror_mode": {
    "name": "ipython",
    "version": 3
   },
   "file_extension": ".py",
   "mimetype": "text/x-python",
   "name": "python",
   "nbconvert_exporter": "python",
   "pygments_lexer": "ipython3",
   "version": "3.8.5"
  }
 },
 "nbformat": 4,
 "nbformat_minor": 4
}
