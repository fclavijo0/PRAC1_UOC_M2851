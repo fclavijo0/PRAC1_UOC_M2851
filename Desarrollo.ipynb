{
 "cells": [
  {
   "cell_type": "markdown",
   "metadata": {},
   "source": [
    "M2.851 - Tipología y ciclo de vida de los datos aula 1\n",
    "Práctica 1 \n",
    "ESTUDIANTES:\n",
    "FEDERICO CLAVIJO LÓPEZ\n",
    "ALEJANDRO MEDINA UICAB\n",
    "\n",
    "Objetivo: Los objetivos concretos de esta práctica son:\n",
    "•\tAprender a aplicar los conocimientos adquiridos y su capacidad de resolución de problemas en entornos nuevos o poco conocidos dentro de contextos más amplios o multidisciplinarios.\n",
    "•\tSaber identificar los datos relevantes cuyo tratamiento aporta valor a una empresa y la identificación de nuevos proyectos analíticos.\n",
    "•\tSaber identificar los datos relevantes para llevar a cabo un proyecto analítico.\n",
    "•\tCapturar datos de diferentes fuentes de datos (tales como redes sociales, web de datos o repositorios).\n",
    "•\tActuar según los principios éticos y legales relacionados con la manipulación de datos en función del ámbito de aplicación.\n",
    "•\tDesarrollar la capacidad de búsqueda, gestión y uso de información y recursos en el ámbito de la ciencia de datos.\n",
    "\n",
    "Práctica realizada\n",
    "1.\tContexto. Explicar en qué contexto se ha recolectado la información. Explicar por qué el sitio web elegido proporciona dicha información.\n",
    "\n",
    "\n",
    "2.\tTítulo. Definir un título que sea descriptivo para el dataset.\n",
    "\n",
    "\n",
    "3.\tDescripción del dataset. Desarrollar una descripción breve del conjunto de datos que se ha extraído. Es necesario que esta descripción tenga sentido con el título elegido.\n",
    "\n",
    "\n",
    "4.\tRepresentación gráfica. Dibujar un esquema o diagrama que identifique el dataset visualmente y el proyecto elegido.\n",
    "\n",
    "\n",
    "5.\tContenido. Explicar los campos que incluye el dataset, el periodo de tiempo de los datos y cómo se han recogido.\n",
    "\n",
    "\n",
    "6.\tAgradecimientos. Presentar al propietario del conjunto de datos. Es necesario incluir citas de análisis anteriores o, en caso de no haberlas, justificar esta búsqueda con análisis similares. Justificar qué pasos se han seguido para actuar de acuerdo a los principios éticos y legales en el contexto del proyecto.\n",
    "\n",
    "\n",
    "7.\tInspiración. Explicar por qué es interesante este conjunto de datos y qué preguntas se pretenden responder. Es necesario comparar con los análisis anteriores presentados en el apartado 6.\n",
    "\n",
    "\n",
    "8.\tLicencia. Seleccionar una de estas licencias para el dataset resultante y justificar el motivo de su selección:\n",
    "\n",
    "\n",
    "a.\tReleased Under CC0: Public Domain License.\n",
    "b.\tReleased Under CC BY-NC-SA 4.0 License.\n",
    "c.\tReleased Under CC BY-SA 4.0 License.\n",
    "d.\tDatabase released under Open Database License, individual contents under Database Contents License.\n",
    "e.\tOther (specified above).\n",
    "f.\tUnknown License.\n",
    "\n",
    "9.\tCódigo. Adjuntar en el repositorio Git el código con el que se ha generado el dataset, preferiblemente en Python o, alternativamente, en R.\n",
    "\n",
    "\n",
    "10.\tDataset. Publicar el dataset obtenido(*) en formato CSV en Zenodo con una breve descripción. Obtener y adjuntar el enlace del DOI.\n",
    "\n",
    "\n",
    "11.\tVídeo. Se debe hacer entrega de un vídeo explicativo de la práctica en donde cada uno de los integrantes del grupo explique con sus propias palabras tanto las respuestas del proyecto como el código utilizado para llevar a cabo la extracción. El vídeo debe ser enviado a través de un enlace a Google Drive que deben proporcionar, junto con el enlace al repositorio Git, al momento de entregar la práctica.\n",
    "\n"
   ]
  }
 ],
 "metadata": {
  "kernelspec": {
   "display_name": "Python 3",
   "language": "python",
   "name": "python3"
  },
  "language_info": {
   "codemirror_mode": {
    "name": "ipython",
    "version": 3
   },
   "file_extension": ".py",
   "mimetype": "text/x-python",
   "name": "python",
   "nbconvert_exporter": "python",
   "pygments_lexer": "ipython3",
   "version": "3.8.5"
  }
 },
 "nbformat": 4,
 "nbformat_minor": 4
}
